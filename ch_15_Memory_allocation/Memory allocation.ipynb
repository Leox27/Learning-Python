{
 "cells": [
  {
   "cell_type": "markdown",
   "id": "aa2cfdcb-cccd-431a-b8d1-4d6d7bdb6aa7",
   "metadata": {},
   "source": [
    "# Memory Allocation:\n",
    "\n",
    "Memory allocation in Python is managed automatically by the Python memory manager, which allocates space for new objects and deallocates memory for objects that are no longer in use through a process called garbage collection. This system helps optimize memory usage by reusing memory for objects with the same value, particularly for small integers and strings."
   ]
  },
  {
   "cell_type": "markdown",
   "id": "dda33c04-cca4-4903-9b14-3f08db8510a3",
   "metadata": {},
   "source": [
    "## Overview of Memory Allocation in Python -\n",
    "Memory allocation in Python refers to how the Python interpreter manages memory for storing data and objects during program execution. This process is largely automatic, allowing developers to focus on coding without worrying about manual memory management.\n"
   ]
  },
  {
   "cell_type": "markdown",
   "id": "8211de00-5a15-4ea2-ac05-3350b36604e2",
   "metadata": {},
   "source": [
    "### Key Components of Memory Allocation\n",
    "#### Private Heap\n",
    "##### Definition: \n",
    "A private heap is where all Python objects and data structures are stored.\n",
    "##### Management: \n",
    "It is managed internally by the Python memory manager, which handles allocation and deallocation.\n",
    "Memory Allocators\n",
    "##### Raw Memory Allocator: \n",
    "Interacts with the operating system to reserve memory space in the private heap.\n",
    "##### Object-Specific Allocators: \n",
    "Manage memory for different object types, such as integers, strings, and lists."
   ]
  },
  {
   "cell_type": "markdown",
   "id": "3025461f-4b1b-4182-90fa-9b33e7e78fef",
   "metadata": {},
   "source": [
    "#### >>>Memory Management Techniques\n",
    "#### 1. Reference Counting:-\n",
    "##### Process: \n",
    "Each object keeps a reference count, indicating how many references point to it.\n",
    "##### Deallocation: \n",
    "When the count reaches zero, the memory for that object is freed.\n",
    "#### 2. Garbage Collection\n",
    "##### Function: \n",
    "Automatically frees memory occupied by objects that are no longer in use.\n",
    "##### Mechanism: \n",
    "If an object has no references pointing to it, the garbage collector removes it from memory."
   ]
  },
  {
   "cell_type": "markdown",
   "id": "57b3a5d1-1a6f-403d-8ecc-c4ef83d00c25",
   "metadata": {},
   "source": [
    "#### Memory Types:\n",
    "##### Stack Memory -\n",
    "###### Usage: \n",
    "Stores temporary variables and function call information.\n",
    "###### Characteristics: \n",
    "Operates on a Last-In-First-Out (LIFO) basis and is automatically freed when a function call ends.\n",
    "##### Heap Memory -\n",
    "###### Usage: \n",
    "Stores actual objects and values that need to persist beyond function calls.\n",
    "###### Characteristics: \n",
    "Memory is allocated dynamically during program execution, allowing for flexible memory usage."
   ]
  },
  {
   "cell_type": "code",
   "execution_count": 17,
   "id": "324f0762-2a84-41e5-936c-3e10c751ae2c",
   "metadata": {},
   "outputs": [
    {
     "name": "stdout",
     "output_type": "stream",
     "text": [
      "2\n"
     ]
    }
   ],
   "source": [
    "### Reference counting method:-\n",
    "import sys\n",
    "\n",
    "a = []\n",
    "print(sys.getrefcount(a))"
   ]
  },
  {
   "cell_type": "code",
   "execution_count": 18,
   "id": "310c619f-5ff6-425b-91e6-3407c80563d6",
   "metadata": {},
   "outputs": [
    {
     "name": "stdout",
     "output_type": "stream",
     "text": [
      "3\n"
     ]
    }
   ],
   "source": [
    "b = a\n",
    "print(sys.getrefcount(b))"
   ]
  },
  {
   "cell_type": "code",
   "execution_count": 19,
   "id": "8fe36ce8-1fd7-42f6-8a1e-02c5a864596e",
   "metadata": {},
   "outputs": [
    {
     "name": "stdout",
     "output_type": "stream",
     "text": [
      "2\n"
     ]
    }
   ],
   "source": [
    "del b\n",
    "print(sys.getrefcount(a))"
   ]
  },
  {
   "cell_type": "code",
   "execution_count": 20,
   "id": "f40a7ea6-a196-41df-a9fb-b6946ebada1f",
   "metadata": {},
   "outputs": [],
   "source": [
    "### Garbage Collection:-\n",
    "import gc\n",
    "\n",
    "gc.enable()"
   ]
  },
  {
   "cell_type": "code",
   "execution_count": 21,
   "id": "58df31bd-3f90-4a32-80d7-f5e563c4ef16",
   "metadata": {},
   "outputs": [],
   "source": [
    "gc.disable()"
   ]
  },
  {
   "cell_type": "code",
   "execution_count": 24,
   "id": "a2452a04-a2fc-4a60-9830-9d5e076062fd",
   "metadata": {},
   "outputs": [
    {
     "data": {
      "text/plain": [
       "0"
      ]
     },
     "execution_count": 24,
     "metadata": {},
     "output_type": "execute_result"
    }
   ],
   "source": [
    "gc.collect()\n",
    "# First show output: 1086 after 0"
   ]
  },
  {
   "cell_type": "code",
   "execution_count": 25,
   "id": "35f19626-9dd7-4a06-90bf-a5172621145c",
   "metadata": {},
   "outputs": [
    {
     "name": "stdout",
     "output_type": "stream",
     "text": [
      "[{'collections': 999, 'collected': 3564, 'uncollectable': 0}, {'collections': 90, 'collected': 1078, 'uncollectable': 0}, {'collections': 14, 'collected': 1942, 'uncollectable': 0}]\n"
     ]
    }
   ],
   "source": [
    "### Garbage collection stats\n",
    "\n",
    "print(gc.get_stats())"
   ]
  },
  {
   "cell_type": "code",
   "execution_count": 28,
   "id": "116a3b55-128c-4d79-b1a6-9256255e2a24",
   "metadata": {
    "scrolled": true
   },
   "outputs": [
    {
     "name": "stdout",
     "output_type": "stream",
     "text": [
      "[]\n"
     ]
    }
   ],
   "source": [
    "### get unreacheable Garbage:-\n",
    "\n",
    "print(gc.garbage)"
   ]
  },
  {
   "cell_type": "code",
   "execution_count": 30,
   "id": "d95851a2-db11-43d6-b9d7-228ba525bc32",
   "metadata": {},
   "outputs": [
    {
     "name": "stdout",
     "output_type": "stream",
     "text": [
      "Object obj1 created\n",
      "Object obj1 deleted\n",
      "Object obj2 created\n",
      "Object obj2 deleted\n",
      "Object obj1 deleted\n",
      "Object obj2 deleted\n"
     ]
    },
    {
     "data": {
      "text/plain": [
       "10205"
      ]
     },
     "execution_count": 30,
     "metadata": {},
     "output_type": "execute_result"
    }
   ],
   "source": [
    "####\n",
    "\n",
    "# Creating classes\n",
    "class Your_Object:\n",
    "    def __init__(self, name):\n",
    "        self.name = name\n",
    "        print(f\"Object {self.name} created\")\n",
    "\n",
    "    def __del__(self):\n",
    "        print(f\"Object {self.name} deleted\")\n",
    "\n",
    "obj1 = Your_Object(\"obj1\")\n",
    "obj2 = Your_Object(\"obj2\")\n",
    "\n",
    "# Reference to another object\n",
    "# obj1 has a reference to obj2.\n",
    "# obj2 has a reference to obj1.\n",
    "obj1.ref = obj2\n",
    "obj2.ref = obj1\n",
    "\n",
    "# delete object \n",
    "del obj1\n",
    "del obj2\n",
    "\n",
    "# Manually trigger Garbage\n",
    "gc.collect()      # built-in module in Python"
   ]
  },
  {
   "cell_type": "markdown",
   "id": "355f7033-66b3-4b0d-ad3c-3ac88f9fb7df",
   "metadata": {},
   "source": [
    "## Generator in python:"
   ]
  },
  {
   "cell_type": "code",
   "execution_count": 31,
   "id": "2d865ded-9f32-46a7-abd9-2153c15641e4",
   "metadata": {},
   "outputs": [
    {
     "name": "stdout",
     "output_type": "stream",
     "text": [
      "0\n",
      "1\n",
      "2\n",
      "3\n",
      "4\n",
      "5\n",
      "6\n",
      "7\n",
      "8\n",
      "9\n",
      "10\n",
      "11\n"
     ]
    }
   ],
   "source": [
    "### Generator for memory efficiency\n",
    "\n",
    "def num_generator(n):\n",
    "    for i in range(n):\n",
    "        yield i\n",
    "\n",
    "for num in num_generator(100000):\n",
    "    print(num)\n",
    "    if num>10:\n",
    "        break"
   ]
  },
  {
   "cell_type": "markdown",
   "id": "58b56260-74da-470c-bedd-3f677548fba3",
   "metadata": {},
   "source": [
    "#### 🧠 Why is this memory efficient?\n",
    "\n",
    "If you used a list like list(range(100000)), Python would store all 100,000 numbers in memory.\n",
    "\n",
    "With a generator, Python only keeps one number at a time in memory.\n",
    "\n",
    "Even if you ask for 100,000, if you break early, it only generated up to 11 and then quit."
   ]
  },
  {
   "cell_type": "markdown",
   "id": "7a98802a-b60c-4336-876e-2a16f87050f3",
   "metadata": {},
   "source": [
    "#### 🎯 Easy way to remember\n",
    "\n",
    "return → “Here, take everything and I’m done.”\n",
    "\n",
    "yield → “I’ll give you one thing now, keep me around, I’ll give you more later if you ask.”\n",
    "\n",
    "Generator = like a vending machine 🥤 → you press the button (next call), it gives you one item at a time instead of dumping the whole stockpile."
   ]
  },
  {
   "cell_type": "code",
   "execution_count": 37,
   "id": "84ba70ef-052c-4bf4-a5e7-fd4d218cc466",
   "metadata": {},
   "outputs": [],
   "source": [
    "### Profiling memory usage for trace-malloc\n",
    "\n",
    "import tracemalloc\n",
    "\n",
    "# This function builds a list with 10,000 numbers\n",
    "def create_list():\n",
    "    return [i for i in range(10000)]\n",
    "\n",
    "def main():\n",
    "    \n",
    "    # Start tracking memory from here\n",
    "    tracemalloc.start() \n",
    "    create_list()          #This is where memory is used.\n",
    "\n",
    "    snapshot = tracemalloc.take_snapshot()\n",
    "    top_stats = snapshot.statistics('lineno')      #line number in the code. \n",
    "                                                   # This tells us which line of code is using how much memory.\n",
    "\n",
    "    print(\"[Top 10]\")\n",
    "    for stat in top_stats:\n",
    "        print(stat)"
   ]
  },
  {
   "cell_type": "code",
   "execution_count": 38,
   "id": "0dc7f046-883d-4d02-a1a8-ce191fe0b925",
   "metadata": {},
   "outputs": [
    {
     "name": "stdout",
     "output_type": "stream",
     "text": [
      "[Top 10]\n",
      "C:\\Users\\ASUS\\anaconda3\\Lib\\ast.py:52: size=693 KiB, count=8872, average=80 B\n",
      "C:\\Users\\ASUS\\anaconda3\\Lib\\tokenize.py:576: size=632 KiB, count=13462, average=48 B\n",
      "<string>:1: size=458 KiB, count=3668, average=128 B\n",
      "C:\\Users\\ASUS\\anaconda3\\Lib\\site-packages\\asttokens\\line_numbers.py:60: size=223 KiB, count=7130, average=32 B\n",
      "C:\\Users\\ASUS\\anaconda3\\Lib\\site-packages\\asttokens\\line_numbers.py:44: size=148 KiB, count=765, average=198 B\n",
      "C:\\Users\\ASUS\\anaconda3\\Lib\\site-packages\\tornado\\platform\\asyncio.py:574: size=144 KiB, count=11, average=13.1 KiB\n",
      "<frozen genericpath>:89: size=95.7 KiB, count=964, average=102 B\n",
      "C:\\Users\\ASUS\\anaconda3\\Lib\\site-packages\\asttokens\\asttokens.py:85: size=90.9 KiB, count=3323, average=28 B\n",
      "C:\\Users\\ASUS\\anaconda3\\Lib\\site-packages\\executing\\executing.py:241: size=63.6 KiB, count=890, average=73 B\n",
      "C:\\Users\\ASUS\\anaconda3\\Lib\\site-packages\\executing\\executing.py:209: size=41.4 KiB, count=480, average=88 B\n",
      "C:\\Users\\ASUS\\anaconda3\\Lib\\linecache.py:139: size=40.8 KiB, count=466, average=90 B\n",
      "C:\\Users\\ASUS\\anaconda3\\Lib\\site-packages\\pygments\\lexer.py:488: size=34.4 KiB, count=440, average=80 B\n",
      "C:\\Users\\ASUS\\anaconda3\\Lib\\site-packages\\pygments\\lexer.py:572: size=29.9 KiB, count=507, average=60 B\n",
      "C:\\Users\\ASUS\\anaconda3\\Lib\\site-packages\\asttokens\\asttokens.py:62: size=29.4 KiB, count=4, average=7532 B\n",
      "C:\\Users\\ASUS\\anaconda3\\Lib\\site-packages\\asttokens\\asttokens.py:59: size=29.4 KiB, count=4, average=7532 B\n",
      "C:\\Users\\ASUS\\anaconda3\\Lib\\site-packages\\executing\\executing.py:234: size=27.7 KiB, count=128, average=222 B\n",
      "C:\\Users\\ASUS\\anaconda3\\Lib\\site-packages\\asttokens\\line_numbers.py:30: size=20.1 KiB, count=561, average=37 B\n",
      "C:\\Users\\ASUS\\anaconda3\\Lib\\site-packages\\asttokens\\line_numbers.py:46: size=18.6 KiB, count=2, average=9508 B\n",
      "C:\\Users\\ASUS\\anaconda3\\Lib\\site-packages\\executing\\executing.py:200: size=18.0 KiB, count=2, average=9236 B\n",
      "C:\\Users\\ASUS\\anaconda3\\Lib\\site-packages\\stack_data\\core.py:128: size=17.9 KiB, count=382, average=48 B\n",
      "C:\\Users\\ASUS\\anaconda3\\Lib\\site-packages\\pygments\\style.py:94: size=16.1 KiB, count=249, average=66 B\n",
      "C:\\Users\\ASUS\\anaconda3\\Lib\\site-packages\\pygments\\formatters\\terminal256.py:44: size=14.4 KiB, count=290, average=51 B\n",
      "C:\\Users\\ASUS\\anaconda3\\Lib\\site-packages\\asttokens\\line_numbers.py:45: size=14.1 KiB, count=47, average=308 B\n",
      "C:\\Users\\ASUS\\anaconda3\\Lib\\site-packages\\pygments\\lexer.py:537: size=13.2 KiB, count=136, average=99 B\n",
      "C:\\Users\\ASUS\\anaconda3\\Lib\\site-packages\\pygments\\formatters\\terminal256.py:180: size=12.9 KiB, count=174, average=76 B\n",
      "C:\\Users\\ASUS\\anaconda3\\Lib\\asyncio\\windows_events.py:487: size=12.1 KiB, count=3, average=4129 B\n",
      "C:\\Users\\ASUS\\anaconda3\\Lib\\site-packages\\pygments\\token.py:44: size=10.6 KiB, count=157, average=69 B\n",
      "C:\\Users\\ASUS\\anaconda3\\Lib\\site-packages\\stack_data\\utils.py:165: size=9445 B, count=75, average=126 B\n",
      "C:\\Users\\ASUS\\anaconda3\\Lib\\site-packages\\pygments\\lexer.py:46: size=9224 B, count=34, average=271 B\n",
      "C:\\Users\\ASUS\\anaconda3\\Lib\\site-packages\\pygments\\lexer.py:543: size=9088 B, count=52, average=175 B\n",
      "C:\\Users\\ASUS\\anaconda3\\Lib\\codeop.py:126: size=9045 B, count=89, average=102 B\n",
      "C:\\Users\\ASUS\\anaconda3\\Lib\\ast.py:405: size=7169 B, count=138, average=52 B\n",
      "C:\\Users\\ASUS\\anaconda3\\Lib\\site-packages\\IPython\\core\\builtin_trap.py:70: size=6512 B, count=1, average=6512 B\n",
      "C:\\Users\\ASUS\\anaconda3\\Lib\\site-packages\\pygments\\lexer.py:517: size=6144 B, count=64, average=96 B\n",
      "C:\\Users\\ASUS\\anaconda3\\Lib\\site-packages\\executing\\executing.py:499: size=6085 B, count=66, average=92 B\n",
      "C:\\Users\\ASUS\\anaconda3\\Lib\\site-packages\\executing\\executing.py:400: size=5536 B, count=20, average=277 B\n",
      "C:\\Users\\ASUS\\anaconda3\\Lib\\site-packages\\IPython\\core\\compilerop.py:174: size=5339 B, count=67, average=80 B\n",
      "C:\\Users\\ASUS\\anaconda3\\Lib\\site-packages\\asttokens\\mark_tokens.py:98: size=5056 B, count=16, average=316 B\n",
      "C:\\Users\\ASUS\\anaconda3\\Lib\\site-packages\\IPython\\core\\compilerop.py:86: size=4887 B, count=80, average=61 B\n",
      "C:\\Users\\ASUS\\anaconda3\\Lib\\site-packages\\stack_data\\core.py:430: size=4699 B, count=79, average=59 B\n",
      "C:\\Users\\ASUS\\anaconda3\\Lib\\site-packages\\stack_data\\core.py:427: size=4624 B, count=1, average=4624 B\n",
      "C:\\Users\\ASUS\\anaconda3\\Lib\\site-packages\\pygments\\style.py:95: size=4624 B, count=1, average=4624 B\n",
      "C:\\Users\\ASUS\\anaconda3\\Lib\\site-packages\\executing\\executing.py:269: size=4520 B, count=1, average=4520 B\n",
      "C:\\Users\\ASUS\\anaconda3\\Lib\\site-packages\\pygments\\style.py:112: size=4029 B, count=79, average=51 B\n",
      "C:\\Users\\ASUS\\anaconda3\\Lib\\site-packages\\stack_data\\utils.py:36: size=3776 B, count=118, average=32 B\n",
      "C:\\Users\\ASUS\\anaconda3\\Lib\\site-packages\\pygments\\lexer.py:514: size=3584 B, count=64, average=56 B\n",
      "C:\\Users\\ASUS\\anaconda3\\Lib\\site-packages\\zmq\\sugar\\attrsettr.py:44: size=3525 B, count=75, average=47 B\n",
      "C:\\Users\\ASUS\\anaconda3\\Lib\\site-packages\\stack_data\\core.py:90: size=3440 B, count=4, average=860 B\n",
      "C:\\Users\\ASUS\\anaconda3\\Lib\\site-packages\\asttokens\\util.py:268: size=3392 B, count=53, average=64 B\n",
      "C:\\Users\\ASUS\\anaconda3\\Lib\\site-packages\\pygments\\formatters\\terminal256.py:242: size=3264 B, count=1, average=3264 B\n",
      "C:\\Users\\ASUS\\anaconda3\\Lib\\site-packages\\traitlets\\traitlets.py:731: size=3249 B, count=51, average=64 B\n",
      "C:\\Users\\ASUS\\anaconda3\\Lib\\site-packages\\pygments\\style.py:70: size=3196 B, count=68, average=47 B\n",
      "C:\\Users\\ASUS\\anaconda3\\Lib\\site-packages\\pygments\\lexer.py:544: size=3088 B, count=60, average=51 B\n",
      "C:\\Users\\ASUS\\anaconda3\\Lib\\site-packages\\pygments\\lexer.py:520: size=3072 B, count=64, average=48 B\n",
      "C:\\Users\\ASUS\\anaconda3\\Lib\\site-packages\\pygments\\lexer.py:553: size=3072 B, count=44, average=70 B\n",
      "C:\\Users\\ASUS\\anaconda3\\Lib\\site-packages\\pygments\\lexer.py:512: size=3032 B, count=64, average=47 B\n",
      "C:\\Users\\ASUS\\anaconda3\\Lib\\site-packages\\IPython\\core\\ultratb.py:990: size=3002 B, count=4, average=750 B\n",
      "C:\\Users\\ASUS\\anaconda3\\Lib\\site-packages\\pygments\\lexer.py:503: size=2400 B, count=50, average=48 B\n",
      "C:\\Users\\ASUS\\anaconda3\\Lib\\site-packages\\stack_data\\core.py:712: size=2368 B, count=54, average=44 B\n",
      "C:\\Users\\ASUS\\anaconda3\\Lib\\site-packages\\jupyter_client\\jsonutil.py:111: size=2300 B, count=46, average=50 B\n",
      "C:\\Users\\ASUS\\anaconda3\\Lib\\json\\decoder.py:353: size=2093 B, count=29, average=72 B\n",
      "C:\\Users\\ASUS\\anaconda3\\Lib\\site-packages\\traitlets\\traitlets.py:1543: size=2045 B, count=33, average=62 B\n",
      "C:\\Users\\ASUS\\anaconda3\\Lib\\site-packages\\pygments\\style.py:61: size=1976 B, count=5, average=395 B\n",
      "C:\\Users\\ASUS\\anaconda3\\Lib\\site-packages\\asttokens\\util.py:267: size=1868 B, count=35, average=53 B\n",
      "C:\\Users\\ASUS\\anaconda3\\Lib\\site-packages\\stack_data\\utils.py:34: size=1736 B, count=31, average=56 B\n",
      "C:\\Users\\ASUS\\anaconda3\\Lib\\site-packages\\stack_data\\core.py:143: size=1680 B, count=30, average=56 B\n",
      "C:\\Users\\ASUS\\anaconda3\\Lib\\site-packages\\asttokens\\util.py:269: size=1672 B, count=2, average=836 B\n",
      "C:\\Users\\ASUS\\anaconda3\\Lib\\site-packages\\asttokens\\mark_tokens.py:99: size=1600 B, count=4, average=400 B\n",
      "C:\\Users\\ASUS\\anaconda3\\Lib\\site-packages\\executing\\executing.py:240: size=1376 B, count=43, average=32 B\n",
      "C:\\Users\\ASUS\\anaconda3\\Lib\\site-packages\\pygments\\formatters\\terminal256.py:186: size=1344 B, count=21, average=64 B\n",
      "C:\\Users\\ASUS\\anaconda3\\Lib\\site-packages\\traitlets\\traitlets.py:1514: size=1320 B, count=11, average=120 B\n",
      "C:\\Users\\ASUS\\anaconda3\\Lib\\site-packages\\jupyter_client\\session.py:1057: size=1319 B, count=12, average=110 B\n",
      "C:\\Users\\ASUS\\anaconda3\\Lib\\dis.py:190: size=1312 B, count=4, average=328 B\n",
      "C:\\Users\\ASUS\\anaconda3\\Lib\\site-packages\\IPython\\core\\async_helpers.py:150: size=1104 B, count=13, average=85 B\n",
      "C:\\Users\\ASUS\\anaconda3\\Lib\\site-packages\\pygments\\lexer.py:635: size=1088 B, count=8, average=136 B\n",
      "C:\\Users\\ASUS\\anaconda3\\Lib\\site-packages\\zmq\\sugar\\socket.py:808: size=1056 B, count=6, average=176 B\n",
      "C:\\Users\\ASUS\\anaconda3\\Lib\\site-packages\\ipykernel\\iostream.py:286: size=1016 B, count=10, average=102 B\n",
      "C:\\Users\\ASUS\\anaconda3\\Lib\\json\\encoder.py:258: size=969 B, count=4, average=242 B\n",
      "C:\\Users\\ASUS\\anaconda3\\Lib\\site-packages\\stack_data\\core.py:520: size=960 B, count=24, average=40 B\n",
      "C:\\Users\\ASUS\\anaconda3\\Lib\\site-packages\\ipykernel\\iostream.py:345: size=848 B, count=8, average=106 B\n",
      "C:\\Users\\ASUS\\anaconda3\\Lib\\site-packages\\stack_data\\utils.py:156: size=808 B, count=7, average=115 B\n",
      "C:\\Users\\ASUS\\anaconda3\\Lib\\site-packages\\pygments\\formatters\\terminal256.py:221: size=768 B, count=1, average=768 B\n",
      "C:\\Users\\ASUS\\anaconda3\\Lib\\threading.py:293: size=760 B, count=2, average=380 B\n",
      "C:\\Users\\ASUS\\anaconda3\\Lib\\site-packages\\IPython\\core\\interactiveshell.py:3334: size=752 B, count=2, average=376 B\n",
      "C:\\Users\\ASUS\\anaconda3\\Lib\\site-packages\\stack_data\\core.py:555: size=704 B, count=8, average=88 B\n",
      "C:\\Users\\ASUS\\AppData\\Local\\Temp\\ipykernel_12760\\4255322163.py:150: size=689 B, count=13, average=53 B\n",
      "C:\\Users\\ASUS\\anaconda3\\Lib\\asyncio\\events.py:88: size=688 B, count=7, average=98 B\n",
      "C:\\Users\\ASUS\\anaconda3\\Lib\\site-packages\\executing\\executing.py:399: size=648 B, count=3, average=216 B\n",
      "C:\\Users\\ASUS\\anaconda3\\Lib\\site-packages\\IPython\\core\\interactiveshell.py:3517: size=648 B, count=2, average=324 B\n",
      "C:\\Users\\ASUS\\anaconda3\\Lib\\site-packages\\executing\\executing.py:319: size=640 B, count=4, average=160 B\n",
      "C:\\Users\\ASUS\\anaconda3\\Lib\\site-packages\\decorator.py:203: size=632 B, count=9, average=70 B\n",
      "C:\\Users\\ASUS\\anaconda3\\Lib\\site-packages\\ipykernel\\compiler.py:91: size=617 B, count=6, average=103 B\n",
      "C:\\Users\\ASUS\\anaconda3\\Lib\\site-packages\\ipykernel\\iostream.py:275: size=608 B, count=6, average=101 B\n",
      "C:\\Users\\ASUS\\anaconda3\\Lib\\site-packages\\IPython\\core\\formatters.py:713: size=600 B, count=2, average=300 B\n",
      "C:\\Users\\ASUS\\anaconda3\\Lib\\asyncio\\windows_events.py:743: size=576 B, count=6, average=96 B\n",
      "C:\\Users\\ASUS\\anaconda3\\Lib\\site-packages\\stack_data\\core.py:584: size=576 B, count=4, average=144 B\n",
      "C:\\Users\\ASUS\\anaconda3\\Lib\\tracemalloc.py:479: size=573 B, count=5, average=115 B\n",
      "C:\\Users\\ASUS\\anaconda3\\Lib\\site-packages\\ipykernel\\zmqshell.py:549: size=560 B, count=6, average=93 B\n",
      "C:\\Users\\ASUS\\anaconda3\\Lib\\asyncio\\windows_events.py:484: size=552 B, count=3, average=184 B\n",
      "C:\\Users\\ASUS\\anaconda3\\Lib\\asyncio\\windows_events.py:720: size=544 B, count=5, average=109 B\n",
      "C:\\Users\\ASUS\\anaconda3\\Lib\\site-packages\\tornado\\platform\\asyncio.py:545: size=528 B, count=11, average=48 B\n",
      "C:\\Users\\ASUS\\anaconda3\\Lib\\site-packages\\IPython\\core\\interactiveshell.py:3104: size=520 B, count=4, average=130 B\n",
      "C:\\Users\\ASUS\\anaconda3\\Lib\\ast.py:428: size=509 B, count=10, average=51 B\n",
      "C:\\Users\\ASUS\\anaconda3\\Lib\\site-packages\\IPython\\core\\interactiveshell.py:3577: size=488 B, count=3, average=163 B\n",
      "C:\\Users\\ASUS\\anaconda3\\Lib\\site-packages\\ipykernel\\ipkernel.py:429: size=472 B, count=3, average=157 B\n",
      "C:\\Users\\ASUS\\anaconda3\\Lib\\site-packages\\ipykernel\\kernelbase.py:523: size=472 B, count=2, average=236 B\n",
      "C:\\Users\\ASUS\\anaconda3\\Lib\\site-packages\\_distutils_hack\\__init__.py:108: size=456 B, count=7, average=65 B\n",
      "C:\\Users\\ASUS\\anaconda3\\Lib\\site-packages\\IPython\\core\\history.py:782: size=428 B, count=2, average=214 B\n",
      "C:\\Users\\ASUS\\anaconda3\\Lib\\site-packages\\executing\\executing.py:413: size=424 B, count=4, average=106 B\n",
      "C:\\Users\\ASUS\\anaconda3\\Lib\\site-packages\\executing\\executing.py:281: size=424 B, count=4, average=106 B\n",
      "C:\\Users\\ASUS\\anaconda3\\Lib\\site-packages\\asttokens\\mark_tokens.py:44: size=424 B, count=4, average=106 B\n",
      "C:\\Users\\ASUS\\anaconda3\\Lib\\site-packages\\asttokens\\asttokens.py:76: size=424 B, count=4, average=106 B\n",
      "C:\\Users\\ASUS\\anaconda3\\Lib\\site-packages\\asttokens\\asttokens.py:56: size=424 B, count=4, average=106 B\n",
      "C:\\Users\\ASUS\\anaconda3\\Lib\\site-packages\\ipykernel\\kernelbase.py:764: size=424 B, count=2, average=212 B\n",
      "C:\\Users\\ASUS\\anaconda3\\Lib\\site-packages\\executing\\executing.py:372: size=416 B, count=8, average=52 B\n",
      "C:\\Users\\ASUS\\anaconda3\\Lib\\site-packages\\stack_data\\utils.py:145: size=384 B, count=6, average=64 B\n",
      "C:\\Users\\ASUS\\anaconda3\\Lib\\site-packages\\ipykernel\\iostream.py:689: size=384 B, count=4, average=96 B\n",
      "C:\\Users\\ASUS\\anaconda3\\Lib\\asyncio\\base_events.py:815: size=384 B, count=4, average=96 B\n",
      "C:\\Users\\ASUS\\anaconda3\\Lib\\site-packages\\ipykernel\\kernelbase.py:427: size=360 B, count=1, average=360 B\n",
      "C:\\Users\\ASUS\\anaconda3\\Lib\\site-packages\\stack_data\\core.py:652: size=352 B, count=8, average=44 B\n",
      "C:\\Users\\ASUS\\anaconda3\\Lib\\site-packages\\jupyter_client\\session.py:670: size=336 B, count=3, average=112 B\n",
      "C:\\Users\\ASUS\\anaconda3\\Lib\\site-packages\\jupyter_client\\session.py:278: size=336 B, count=3, average=112 B\n",
      "C:\\Users\\ASUS\\anaconda3\\Lib\\site-packages\\ipykernel\\kernelbase.py:767: size=336 B, count=1, average=336 B\n",
      "C:\\Users\\ASUS\\anaconda3\\Lib\\tracemalloc.py:560: size=312 B, count=2, average=156 B\n",
      "C:\\Users\\ASUS\\anaconda3\\Lib\\tracemalloc.py:423: size=312 B, count=2, average=156 B\n",
      "C:\\Users\\ASUS\\anaconda3\\Lib\\site-packages\\IPython\\core\\interactiveshell.py:3130: size=312 B, count=1, average=312 B\n",
      "C:\\Users\\ASUS\\anaconda3\\Lib\\site-packages\\stack_data\\utils.py:155: size=304 B, count=7, average=43 B\n",
      "C:\\Users\\ASUS\\anaconda3\\Lib\\site-packages\\IPython\\core\\interactiveshell.py:3223: size=288 B, count=5, average=58 B\n",
      "C:\\Users\\ASUS\\AppData\\Local\\Temp\\ipykernel_12760\\1549394089.py:15: size=288 B, count=3, average=96 B\n",
      "C:\\Users\\ASUS\\anaconda3\\Lib\\site-packages\\tornado\\queues.py:248: size=288 B, count=2, average=144 B\n",
      "C:\\Users\\ASUS\\anaconda3\\Lib\\asyncio\\base_events.py:449: size=288 B, count=2, average=144 B\n",
      "C:\\Users\\ASUS\\anaconda3\\Lib\\tracemalloc.py:533: size=264 B, count=2, average=132 B\n",
      "C:\\Users\\ASUS\\anaconda3\\Lib\\site-packages\\IPython\\core\\displayhook.py:216: size=262 B, count=6, average=44 B\n",
      "C:\\Users\\ASUS\\anaconda3\\Lib\\site-packages\\executing\\executing.py:313: size=256 B, count=6, average=43 B\n",
      "C:\\Users\\ASUS\\anaconda3\\Lib\\site-packages\\tornado\\platform\\asyncio.py:235: size=256 B, count=4, average=64 B\n",
      "C:\\Users\\ASUS\\anaconda3\\Lib\\site-packages\\pygments\\lexer.py:577: size=256 B, count=4, average=64 B\n",
      "C:\\Users\\ASUS\\anaconda3\\Lib\\asyncio\\windows_events.py:59: size=256 B, count=4, average=64 B\n",
      "C:\\Users\\ASUS\\anaconda3\\Lib\\asyncio\\proactor_events.py:818: size=256 B, count=4, average=64 B\n",
      "C:\\Users\\ASUS\\AppData\\Local\\Temp\\ipykernel_12760\\961699097.py:13: size=248 B, count=2, average=124 B\n",
      "C:\\Users\\ASUS\\anaconda3\\Lib\\site-packages\\ipykernel\\iostream.py:120: size=248 B, count=1, average=248 B\n",
      "C:\\Users\\ASUS\\anaconda3\\Lib\\site-packages\\IPython\\core\\interactiveshell.py:3075: size=248 B, count=1, average=248 B\n",
      "C:\\Users\\ASUS\\anaconda3\\Lib\\threading.py:348: size=240 B, count=4, average=60 B\n",
      "C:\\Users\\ASUS\\anaconda3\\Lib\\site-packages\\jupyter_client\\session.py:672: size=240 B, count=2, average=120 B\n",
      "C:\\Users\\ASUS\\anaconda3\\Lib\\logging\\__init__.py:1622: size=240 B, count=1, average=240 B\n",
      "C:\\Users\\ASUS\\anaconda3\\Lib\\site-packages\\zmq\\sugar\\socket.py:805: size=232 B, count=2, average=116 B\n",
      "C:\\Users\\ASUS\\anaconda3\\Lib\\asyncio\\futures.py:398: size=232 B, count=2, average=116 B\n",
      "C:\\Users\\ASUS\\AppData\\Local\\Temp\\ipykernel_12760\\1598602408.py:8: size=232 B, count=2, average=116 B\n",
      "C:\\Users\\ASUS\\AppData\\Local\\Temp\\ipykernel_12760\\1598602408.py:5: size=232 B, count=2, average=116 B\n",
      "C:\\Users\\ASUS\\AppData\\Local\\Temp\\ipykernel_12760\\1549394089.py:38: size=232 B, count=2, average=116 B\n",
      "C:\\Users\\ASUS\\AppData\\Local\\Temp\\ipykernel_12760\\1549394089.py:5: size=232 B, count=2, average=116 B\n",
      "C:\\Users\\ASUS\\anaconda3\\Lib\\site-packages\\ipykernel\\kernelbase.py:534: size=232 B, count=1, average=232 B\n",
      "C:\\Users\\ASUS\\anaconda3\\Lib\\site-packages\\stack_data\\core.py:784: size=224 B, count=4, average=56 B\n",
      "C:\\Users\\ASUS\\anaconda3\\Lib\\site-packages\\stack_data\\core.py:702: size=224 B, count=4, average=56 B\n",
      "C:\\Users\\ASUS\\anaconda3\\Lib\\site-packages\\stack_data\\core.py:583: size=224 B, count=4, average=56 B\n",
      "C:\\Users\\ASUS\\anaconda3\\Lib\\site-packages\\IPython\\core\\ultratb.py:1138: size=224 B, count=2, average=112 B\n",
      "C:\\Users\\ASUS\\anaconda3\\Lib\\site-packages\\IPython\\core\\interactiveshell.py:3237: size=224 B, count=2, average=112 B\n",
      "C:\\Users\\ASUS\\anaconda3\\Lib\\asyncio\\futures.py:391: size=224 B, count=2, average=112 B\n",
      "C:\\Users\\ASUS\\anaconda3\\Lib\\site-packages\\IPython\\core\\ultratb.py:1141: size=216 B, count=2, average=108 B\n",
      "C:\\Users\\ASUS\\anaconda3\\Lib\\site-packages\\stack_data\\core.py:719: size=208 B, count=4, average=52 B\n",
      "C:\\Users\\ASUS\\anaconda3\\Lib\\site-packages\\IPython\\core\\interactiveshell.py:2149: size=208 B, count=2, average=104 B\n",
      "C:\\Users\\ASUS\\AppData\\Local\\Temp\\ipykernel_12760\\451043146.py:1: size=208 B, count=2, average=104 B\n",
      "C:\\Users\\ASUS\\anaconda3\\Lib\\site-packages\\pygments\\style.py:81: size=208 B, count=1, average=208 B\n",
      "C:\\Users\\ASUS\\anaconda3\\Lib\\site-packages\\jupyter_client\\session.py:1085: size=208 B, count=1, average=208 B\n",
      "C:\\Users\\ASUS\\anaconda3\\Lib\\site-packages\\jupyter_client\\jsonutil.py:75: size=208 B, count=1, average=208 B\n",
      "C:\\Users\\ASUS\\anaconda3\\Lib\\site-packages\\ipykernel\\kernelbase.py:759: size=208 B, count=1, average=208 B\n",
      "C:\\Users\\ASUS\\anaconda3\\Lib\\site-packages\\ipykernel\\ipkernel.py:460: size=208 B, count=1, average=208 B\n",
      "C:\\Users\\ASUS\\anaconda3\\Lib\\asyncio\\futures.py:422: size=200 B, count=5, average=40 B\n",
      "C:\\Users\\ASUS\\anaconda3\\Lib\\site-packages\\pygments\\regexopt.py:78: size=192 B, count=4, average=48 B\n",
      "C:\\Users\\ASUS\\anaconda3\\Lib\\site-packages\\IPython\\core\\interactiveshell.py:3224: size=192 B, count=4, average=48 B\n",
      "C:\\Users\\ASUS\\anaconda3\\Lib\\site-packages\\IPython\\core\\ultratb.py:1097: size=192 B, count=3, average=64 B\n",
      "C:\\Users\\ASUS\\anaconda3\\Lib\\site-packages\\IPython\\core\\async_helpers.py:128: size=192 B, count=1, average=192 B\n",
      "C:\\Users\\ASUS\\anaconda3\\Lib\\site-packages\\IPython\\core\\interactiveshell.py:3509: size=184 B, count=4, average=46 B\n",
      "C:\\Users\\ASUS\\anaconda3\\Lib\\site-packages\\IPython\\core\\interactiveshell.py:3485: size=176 B, count=4, average=44 B\n",
      "C:\\Users\\ASUS\\anaconda3\\Lib\\site-packages\\tornado\\platform\\asyncio.py:575: size=168 B, count=3, average=56 B\n",
      "C:\\Users\\ASUS\\anaconda3\\Lib\\site-packages\\stack_data\\core.py:777: size=168 B, count=3, average=56 B\n",
      "C:\\Users\\ASUS\\anaconda3\\Lib\\asyncio\\windows_events.py:447: size=168 B, count=3, average=56 B\n",
      "C:\\Users\\ASUS\\anaconda3\\Lib\\site-packages\\stack_data\\core.py:780: size=160 B, count=4, average=40 B\n",
      "C:\\Users\\ASUS\\anaconda3\\Lib\\site-packages\\IPython\\core\\history.py:836: size=160 B, count=2, average=80 B\n",
      "C:\\Users\\ASUS\\anaconda3\\Lib\\site-packages\\ipykernel\\kernelbase.py:559: size=160 B, count=1, average=160 B\n",
      "C:\\Users\\ASUS\\anaconda3\\Lib\\site-packages\\IPython\\core\\interactiveshell.py:3493: size=160 B, count=1, average=160 B\n",
      "C:\\Users\\ASUS\\anaconda3\\Lib\\asyncio\\futures.py:385: size=160 B, count=1, average=160 B\n",
      "C:\\Users\\ASUS\\AppData\\Local\\Temp\\ipykernel_12760\\1549394089.py:31: size=160 B, count=1, average=160 B\n",
      "C:\\Users\\ASUS\\AppData\\Local\\Temp\\ipykernel_12760\\1549394089.py:28: size=160 B, count=1, average=160 B\n",
      "C:\\Users\\ASUS\\AppData\\Local\\Temp\\ipykernel_12760\\1549394089.py:21: size=160 B, count=1, average=160 B\n",
      "<frozen importlib._bootstrap>:132: size=160 B, count=1, average=160 B\n",
      "C:\\Users\\ASUS\\anaconda3\\Lib\\enum.py:1560: size=144 B, count=3, average=48 B\n",
      "C:\\Users\\ASUS\\anaconda3\\Lib\\site-packages\\executing\\executing.py:223: size=144 B, count=2, average=72 B\n",
      "C:\\Users\\ASUS\\anaconda3\\Lib\\site-packages\\executing\\executing.py:565: size=128 B, count=4, average=32 B\n",
      "C:\\Users\\ASUS\\anaconda3\\Lib\\site-packages\\jupyter_client\\session.py:663: size=128 B, count=2, average=64 B\n",
      "C:\\Users\\ASUS\\anaconda3\\Lib\\site-packages\\jupyter_client\\jsonutil.py:73: size=128 B, count=2, average=64 B\n",
      "C:\\Users\\ASUS\\anaconda3\\Lib\\site-packages\\IPython\\core\\interactiveshell.py:3515: size=128 B, count=2, average=64 B\n",
      "C:\\Users\\ASUS\\anaconda3\\Lib\\site-packages\\IPython\\core\\formatters.py:951: size=128 B, count=2, average=64 B\n",
      "C:\\Users\\ASUS\\anaconda3\\Lib\\concurrent\\futures\\_base.py:330: size=128 B, count=2, average=64 B\n",
      "C:\\Users\\ASUS\\anaconda3\\Lib\\site-packages\\IPython\\core\\ultratb.py:1200: size=127 B, count=1, average=127 B\n",
      "C:\\Users\\ASUS\\anaconda3\\Lib\\site-packages\\IPython\\core\\ultratb.py:1022: size=127 B, count=1, average=127 B\n",
      "C:\\Users\\ASUS\\anaconda3\\Lib\\threading.py:135: size=120 B, count=2, average=60 B\n",
      "C:\\Users\\ASUS\\anaconda3\\Lib\\site-packages\\traitlets\\traitlets.py:1540: size=120 B, count=2, average=60 B\n",
      "C:\\Users\\ASUS\\anaconda3\\Lib\\site-packages\\ipykernel\\kernelbase.py:310: size=120 B, count=2, average=60 B\n",
      "C:\\Users\\ASUS\\anaconda3\\Lib\\site-packages\\pygments\\formatters\\terminal256.py:136: size=120 B, count=1, average=120 B\n",
      "C:\\Users\\ASUS\\anaconda3\\Lib\\inspect.py:266: size=120 B, count=1, average=120 B\n",
      "C:\\Users\\ASUS\\anaconda3\\Lib\\asyncio\\base_events.py:778: size=120 B, count=1, average=120 B\n",
      "C:\\Users\\ASUS\\anaconda3\\Lib\\site-packages\\stack_data\\core.py:152: size=112 B, count=2, average=56 B\n",
      "C:\\Users\\ASUS\\anaconda3\\Lib\\site-packages\\IPython\\lib\\pretty.py:507: size=112 B, count=2, average=56 B\n",
      "C:\\Users\\ASUS\\anaconda3\\Lib\\collections\\__init__.py:449: size=112 B, count=2, average=56 B\n",
      "C:\\Users\\ASUS\\AppData\\Local\\Temp\\ipykernel_12760\\4255322163.py:139: size=112 B, count=2, average=56 B\n",
      "C:\\Users\\ASUS\\AppData\\Local\\Temp\\ipykernel_12760\\1549394089.py:16: size=112 B, count=2, average=56 B\n",
      "C:\\Users\\ASUS\\anaconda3\\Lib\\json\\encoder.py:249: size=112 B, count=1, average=112 B\n",
      "C:\\Users\\ASUS\\anaconda3\\Lib\\site-packages\\jupyter_client\\session.py:989: size=111 B, count=2, average=56 B\n",
      "C:\\Users\\ASUS\\anaconda3\\Lib\\inspect.py:2125: size=104 B, count=1, average=104 B\n",
      "C:\\Users\\ASUS\\anaconda3\\Lib\\site-packages\\jupyter_client\\session.py:200: size=96 B, count=2, average=48 B\n",
      "C:\\Users\\ASUS\\anaconda3\\Lib\\site-packages\\IPython\\core\\interactiveshell.py:3375: size=96 B, count=2, average=48 B\n",
      "C:\\Users\\ASUS\\anaconda3\\Lib\\inspect.py:2134: size=96 B, count=1, average=96 B\n",
      "C:\\Users\\ASUS\\anaconda3\\Lib\\site-packages\\pygments\\style.py:74: size=94 B, count=2, average=47 B\n",
      "C:\\Users\\ASUS\\anaconda3\\Lib\\site-packages\\IPython\\core\\ultratb.py:1047: size=92 B, count=1, average=92 B\n",
      "C:\\Users\\ASUS\\anaconda3\\Lib\\site-packages\\IPython\\core\\history.py:805: size=90 B, count=2, average=45 B\n",
      "C:\\Users\\ASUS\\anaconda3\\Lib\\site-packages\\IPython\\core\\interactiveshell.py:3503: size=88 B, count=2, average=44 B\n",
      "C:\\Users\\ASUS\\anaconda3\\Lib\\site-packages\\IPython\\core\\displayhook.py:234: size=88 B, count=2, average=44 B\n",
      "C:\\Users\\ASUS\\anaconda3\\Lib\\inspect.py:2523: size=88 B, count=1, average=88 B\n",
      "C:\\Users\\ASUS\\anaconda3\\Lib\\site-packages\\jupyter_client\\session.py:604: size=85 B, count=1, average=85 B\n",
      "C:\\Users\\ASUS\\anaconda3\\Lib\\threading.py:351: size=84 B, count=2, average=42 B\n",
      "<frozen ntpath>:738: size=83 B, count=1, average=83 B\n",
      "<frozen ntpath>:66: size=83 B, count=1, average=83 B\n",
      "C:\\Users\\ASUS\\anaconda3\\Lib\\site-packages\\pygments\\style.py:90: size=80 B, count=1, average=80 B\n",
      "C:\\Users\\ASUS\\anaconda3\\Lib\\tracemalloc.py:551: size=72 B, count=1, average=72 B\n",
      "C:\\Users\\ASUS\\anaconda3\\Lib\\tracemalloc.py:528: size=72 B, count=1, average=72 B\n",
      "C:\\Users\\ASUS\\anaconda3\\Lib\\tracemalloc.py:477: size=72 B, count=1, average=72 B\n",
      "C:\\Users\\ASUS\\anaconda3\\Lib\\tracemalloc.py:420: size=72 B, count=1, average=72 B\n",
      "C:\\Users\\ASUS\\anaconda3\\Lib\\tracemalloc.py:312: size=72 B, count=1, average=72 B\n",
      "C:\\Users\\ASUS\\anaconda3\\Lib\\threading.py:292: size=72 B, count=1, average=72 B\n",
      "C:\\Users\\ASUS\\anaconda3\\Lib\\threading.py:290: size=72 B, count=1, average=72 B\n",
      "C:\\Users\\ASUS\\anaconda3\\Lib\\threading.py:288: size=72 B, count=1, average=72 B\n",
      "C:\\Users\\ASUS\\anaconda3\\Lib\\threading.py:283: size=72 B, count=1, average=72 B\n",
      "C:\\Users\\ASUS\\anaconda3\\Lib\\threading.py:282: size=72 B, count=1, average=72 B\n",
      "C:\\Users\\ASUS\\anaconda3\\Lib\\site-packages\\IPython\\core\\compilerop.py:171: size=72 B, count=1, average=72 B\n",
      "C:\\Users\\ASUS\\AppData\\Local\\Temp\\ipykernel_12760\\451043146.py:0: size=72 B, count=1, average=72 B\n",
      "C:\\Users\\ASUS\\anaconda3\\Lib\\site-packages\\stack_data\\utils.py:108: size=64 B, count=2, average=32 B\n",
      "C:\\Users\\ASUS\\anaconda3\\Lib\\site-packages\\executing\\executing.py:305: size=64 B, count=2, average=32 B\n",
      "C:\\Users\\ASUS\\anaconda3\\Lib\\threading.py:652: size=64 B, count=1, average=64 B\n",
      "C:\\Users\\ASUS\\anaconda3\\Lib\\site-packages\\zmq\\sugar\\socket.py:809: size=64 B, count=1, average=64 B\n",
      "C:\\Users\\ASUS\\anaconda3\\Lib\\site-packages\\zmq\\sugar\\socket.py:735: size=64 B, count=1, average=64 B\n",
      "C:\\Users\\ASUS\\anaconda3\\Lib\\site-packages\\tornado\\platform\\asyncio.py:550: size=64 B, count=1, average=64 B\n",
      "C:\\Users\\ASUS\\anaconda3\\Lib\\site-packages\\tornado\\platform\\asyncio.py:543: size=64 B, count=1, average=64 B\n",
      "C:\\Users\\ASUS\\anaconda3\\Lib\\site-packages\\jupyter_client\\session.py:1053: size=64 B, count=1, average=64 B\n",
      "C:\\Users\\ASUS\\anaconda3\\Lib\\site-packages\\jupyter_client\\session.py:863: size=64 B, count=1, average=64 B\n",
      "C:\\Users\\ASUS\\anaconda3\\Lib\\site-packages\\ipykernel\\kernelbase.py:750: size=64 B, count=1, average=64 B\n",
      "C:\\Users\\ASUS\\anaconda3\\Lib\\site-packages\\ipykernel\\kernelbase.py:710: size=64 B, count=1, average=64 B\n",
      "C:\\Users\\ASUS\\anaconda3\\Lib\\site-packages\\ipykernel\\kernelbase.py:68: size=64 B, count=1, average=64 B\n",
      "C:\\Users\\ASUS\\anaconda3\\Lib\\site-packages\\ipykernel\\ipkernel.py:456: size=64 B, count=1, average=64 B\n",
      "C:\\Users\\ASUS\\anaconda3\\Lib\\site-packages\\ipykernel\\ipkernel.py:364: size=64 B, count=1, average=64 B\n",
      "C:\\Users\\ASUS\\anaconda3\\Lib\\site-packages\\ipykernel\\ipkernel.py:363: size=64 B, count=1, average=64 B\n",
      "C:\\Users\\ASUS\\anaconda3\\Lib\\site-packages\\ipykernel\\ipkernel.py:361: size=64 B, count=1, average=64 B\n",
      "C:\\Users\\ASUS\\anaconda3\\Lib\\site-packages\\ipykernel\\ipkernel.py:280: size=64 B, count=1, average=64 B\n",
      "C:\\Users\\ASUS\\anaconda3\\Lib\\site-packages\\ipykernel\\ipkernel.py:277: size=64 B, count=1, average=64 B\n",
      "C:\\Users\\ASUS\\anaconda3\\Lib\\site-packages\\ipykernel\\displayhook.py:77: size=64 B, count=1, average=64 B\n",
      "C:\\Users\\ASUS\\anaconda3\\Lib\\site-packages\\executing\\executing.py:490: size=64 B, count=1, average=64 B\n",
      "C:\\Users\\ASUS\\anaconda3\\Lib\\site-packages\\decorator.py:232: size=64 B, count=1, average=64 B\n",
      "C:\\Users\\ASUS\\anaconda3\\Lib\\site-packages\\asttokens\\util.py:258: size=64 B, count=1, average=64 B\n",
      "C:\\Users\\ASUS\\anaconda3\\Lib\\site-packages\\IPython\\core\\ultratb.py:1228: size=64 B, count=1, average=64 B\n",
      "C:\\Users\\ASUS\\anaconda3\\Lib\\site-packages\\IPython\\core\\interactiveshell.py:3566: size=64 B, count=1, average=64 B\n",
      "C:\\Users\\ASUS\\anaconda3\\Lib\\site-packages\\IPython\\core\\interactiveshell.py:3303: size=64 B, count=1, average=64 B\n",
      "C:\\Users\\ASUS\\anaconda3\\Lib\\site-packages\\IPython\\core\\interactiveshell.py:3300: size=64 B, count=1, average=64 B\n",
      "C:\\Users\\ASUS\\anaconda3\\Lib\\site-packages\\IPython\\core\\ultratb.py:149: size=59 B, count=1, average=59 B\n",
      "C:\\Users\\ASUS\\anaconda3\\Lib\\site-packages\\asttokens\\line_numbers.py:32: size=56 B, count=2, average=28 B\n",
      "C:\\Users\\ASUS\\anaconda3\\Lib\\site-packages\\IPython\\core\\compilerop.py:172: size=56 B, count=2, average=28 B\n",
      "C:\\Users\\ASUS\\anaconda3\\Lib\\tracemalloc.py:558: size=56 B, count=1, average=56 B\n",
      "C:\\Users\\ASUS\\anaconda3\\Lib\\site-packages\\zmq\\sugar\\socket.py:750: size=56 B, count=1, average=56 B\n",
      "C:\\Users\\ASUS\\anaconda3\\Lib\\site-packages\\zmq\\sugar\\poll.py:48: size=56 B, count=1, average=56 B\n",
      "C:\\Users\\ASUS\\anaconda3\\Lib\\site-packages\\traitlets\\traitlets.py:1534: size=56 B, count=1, average=56 B\n",
      "C:\\Users\\ASUS\\anaconda3\\Lib\\site-packages\\pygments\\formatters\\terminal256.py:138: size=56 B, count=1, average=56 B\n",
      "C:\\Users\\ASUS\\anaconda3\\Lib\\site-packages\\jupyter_client\\session.py:1088: size=56 B, count=1, average=56 B\n",
      "C:\\Users\\ASUS\\anaconda3\\Lib\\site-packages\\jupyter_client\\session.py:821: size=56 B, count=1, average=56 B\n",
      "C:\\Users\\ASUS\\anaconda3\\Lib\\site-packages\\jupyter_client\\session.py:738: size=56 B, count=1, average=56 B\n",
      "C:\\Users\\ASUS\\anaconda3\\Lib\\site-packages\\IPython\\lib\\pretty.py:788: size=56 B, count=1, average=56 B\n",
      "C:\\Users\\ASUS\\anaconda3\\Lib\\site-packages\\IPython\\lib\\pretty.py:212: size=56 B, count=1, average=56 B\n",
      "C:\\Users\\ASUS\\anaconda3\\Lib\\site-packages\\IPython\\core\\ultratb.py:1201: size=56 B, count=1, average=56 B\n",
      "C:\\Users\\ASUS\\anaconda3\\Lib\\site-packages\\IPython\\core\\ultratb.py:184: size=56 B, count=1, average=56 B\n",
      "C:\\Users\\ASUS\\anaconda3\\Lib\\site-packages\\IPython\\core\\payload.py:54: size=56 B, count=1, average=56 B\n",
      "C:\\Users\\ASUS\\anaconda3\\Lib\\site-packages\\IPython\\core\\interactiveshell.py:3498: size=56 B, count=1, average=56 B\n",
      "C:\\Users\\ASUS\\anaconda3\\Lib\\site-packages\\IPython\\core\\history.py:866: size=56 B, count=1, average=56 B\n",
      "C:\\Users\\ASUS\\anaconda3\\Lib\\concurrent\\futures\\_base.py:335: size=56 B, count=1, average=56 B\n",
      "C:\\Users\\ASUS\\anaconda3\\Lib\\concurrent\\futures\\_base.py:334: size=56 B, count=1, average=56 B\n",
      "C:\\Users\\ASUS\\anaconda3\\Lib\\asyncio\\futures.py:407: size=56 B, count=1, average=56 B\n",
      "C:\\Users\\ASUS\\anaconda3\\Lib\\site-packages\\ipykernel\\ipkernel.py:450: size=51 B, count=1, average=51 B\n",
      "C:\\Users\\ASUS\\anaconda3\\Lib\\site-packages\\tornado\\concurrent.py:193: size=48 B, count=1, average=48 B\n",
      "C:\\Users\\ASUS\\anaconda3\\Lib\\site-packages\\stack_data\\core.py:424: size=48 B, count=1, average=48 B\n",
      "C:\\Users\\ASUS\\anaconda3\\Lib\\site-packages\\stack_data\\core.py:81: size=48 B, count=1, average=48 B\n",
      "C:\\Users\\ASUS\\anaconda3\\Lib\\site-packages\\dateutil\\parser\\_parser.py:1195: size=48 B, count=1, average=48 B\n",
      "C:\\Users\\ASUS\\anaconda3\\Lib\\site-packages\\IPython\\core\\interactiveshell.py:3505: size=48 B, count=1, average=48 B\n",
      "C:\\Users\\ASUS\\anaconda3\\Lib\\re\\__init__.py:260: size=48 B, count=1, average=48 B\n",
      "C:\\Users\\ASUS\\anaconda3\\Lib\\asyncio\\windows_events.py:56: size=48 B, count=1, average=48 B\n",
      "C:\\Users\\ASUS\\anaconda3\\Lib\\asyncio\\proactor_events.py:831: size=48 B, count=1, average=48 B\n",
      "<frozen os>:714: size=48 B, count=1, average=48 B\n",
      "C:\\Users\\ASUS\\anaconda3\\Lib\\site-packages\\IPython\\core\\prefilter.py:317: size=47 B, count=1, average=47 B\n",
      "C:\\Users\\ASUS\\anaconda3\\Lib\\site-packages\\IPython\\core\\interactiveshell.py:3599: size=40 B, count=1, average=40 B\n",
      "C:\\Users\\ASUS\\anaconda3\\Lib\\site-packages\\jupyter_client\\session.py:996: size=32 B, count=1, average=32 B\n",
      "C:\\Users\\ASUS\\anaconda3\\Lib\\site-packages\\jupyter_client\\session.py:603: size=32 B, count=1, average=32 B\n",
      "C:\\Users\\ASUS\\anaconda3\\Lib\\site-packages\\IPython\\core\\history.py:793: size=32 B, count=1, average=32 B\n",
      "C:\\Users\\ASUS\\anaconda3\\Lib\\site-packages\\IPython\\core\\compilerop.py:192: size=32 B, count=1, average=32 B\n",
      "C:\\Users\\ASUS\\anaconda3\\Lib\\linecache.py:93: size=32 B, count=1, average=32 B\n",
      "C:\\Users\\ASUS\\anaconda3\\Lib\\concurrent\\futures\\_base.py:421: size=32 B, count=1, average=32 B\n",
      "C:\\Users\\ASUS\\anaconda3\\Lib\\asyncio\\windows_events.py:769: size=32 B, count=1, average=32 B\n",
      "C:\\Users\\ASUS\\anaconda3\\Lib\\asyncio\\base_events.py:1970: size=32 B, count=1, average=32 B\n",
      "C:\\Users\\ASUS\\anaconda3\\Lib\\asyncio\\base_events.py:781: size=32 B, count=1, average=32 B\n",
      "C:\\Users\\ASUS\\anaconda3\\Lib\\site-packages\\IPython\\core\\ultratb.py:150: size=28 B, count=1, average=28 B\n"
     ]
    }
   ],
   "source": [
    "main()"
   ]
  },
  {
   "cell_type": "markdown",
   "id": "4fabb965-49b4-4f38-baff-651693a5654a",
   "metadata": {},
   "source": [
    "### 🧠 Easy way to remember\n",
    "\n",
    "tracemalloc.start() → Start watching backpacks.\n",
    "\n",
    "create_list() → Fill backpack with 10,000 numbers.\n",
    "\n",
    "take_snapshot() → Take a photo of memory usage.\n",
    "\n",
    "statistics('lineno') → Show who used memory and where.\n",
    "\n",
    "print(stat) → Print the backpack report."
   ]
  },
  {
   "cell_type": "code",
   "execution_count": null,
   "id": "fc2dc03a-e07a-4052-84c0-84ada4f3452a",
   "metadata": {},
   "outputs": [],
   "source": []
  }
 ],
 "metadata": {
  "kernelspec": {
   "display_name": "Python [conda env:base] *",
   "language": "python",
   "name": "conda-base-py"
  },
  "language_info": {
   "codemirror_mode": {
    "name": "ipython",
    "version": 3
   },
   "file_extension": ".py",
   "mimetype": "text/x-python",
   "name": "python",
   "nbconvert_exporter": "python",
   "pygments_lexer": "ipython3",
   "version": "3.12.7"
  }
 },
 "nbformat": 4,
 "nbformat_minor": 5
}
