














### Reference counting method:-
import sys

a = []
print(sys.getrefcount(a))


b = a
print(sys.getrefcount(b))


del b
print(sys.getrefcount(a))


### Garbage Collection:-
import gc

gc.enable()


gc.disable()


gc.collect()
# First show output: 1086 after 0


### Garbage collection stats

print(gc.get_stats())


### get unreacheable Garbage:-

print(gc.garbage)


####

# Creating classes
class Your_Object:
    def __init__(self, name):
        self.name = name
        print(f"Object {self.name} created")

    def __del__(self):
        print(f"Object {self.name} deleted")

obj1 = Your_Object("obj1")
obj2 = Your_Object("obj2")

# Reference to another object
# obj1 has a reference to obj2.
# obj2 has a reference to obj1.
obj1.ref = obj2
obj2.ref = obj1

# delete object 
del obj1
del obj2

# Manually trigger Garbage
gc.collect()      # built-in module in Python





### Generator for memory efficiency

def num_generator(n):
    for i in range(n):
        yield i

for num in num_generator(100000):
    print(num)
    if num>10:
        break








### Profiling memory usage for trace-malloc

import tracemalloc

# This function builds a list with 10,000 numbers
def create_list():
    return [i for i in range(10000)]

def main():
    
    # Start tracking memory from here
    tracemalloc.start() 
    create_list()          #This is where memory is used.

    snapshot = tracemalloc.take_snapshot()
    top_stats = snapshot.statistics('lineno')      #line number in the code. 
                                                   # This tells us which line of code is using how much memory.

    print("[Top 10]")
    for stat in top_stats:
        print(stat)
    


main()






